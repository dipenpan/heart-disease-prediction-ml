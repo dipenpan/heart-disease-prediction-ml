{
 "cells": [
  {
   "cell_type": "markdown",
   "metadata": {},
   "source": [
    "## LIBRARIES\n"
   ]
  },
  {
   "cell_type": "code",
   "execution_count": null,
   "metadata": {},
   "outputs": [],
   "source": [
    "import numpy as np\n",
    "import pandas as pd\n",
    "import matplotlib.pyplot as plt"
   ]
  },
  {
   "cell_type": "code",
   "execution_count": null,
   "metadata": {},
   "outputs": [],
   "source": [
    "from sklearn.preprocessing import LabelEncoder, StandardScaler\n",
    "from sklearn.model_selection import train_test_split\n",
    "from sklearn.ensemble import RandomForestClassifier\n",
    "from sklearn.linear_model import LogisticRegression\n",
    "from sklearn.neighbors import KNeighborsClassifier\n",
    "from sklearn.tree import DecisionTreeClassifier\n",
    "from sklearn.svm import SVC\n",
    "from sklearn.metrics import accuracy_score, confusion_matrix"
   ]
  },
  {
   "cell_type": "markdown",
   "metadata": {},
   "source": [
    "# Importing Dataset"
   ]
  },
  {
   "cell_type": "code",
   "execution_count": null,
   "metadata": {},
   "outputs": [],
   "source": [
    "dataset = pd.read_csv('heart.csv')\n",
    "x = dataset.iloc[:,:-1].values\n",
    "y = dataset.iloc[:,-1].values"
   ]
  },
  {
   "cell_type": "code",
   "execution_count": null,
   "metadata": {},
   "outputs": [],
   "source": [
    "print(\"Dataset Shape:\", dataset.shape)\n",
    "dataset.head()"
   ]
  },
  {
   "cell_type": "markdown",
   "metadata": {},
   "source": [
    "# Data Preprocessing"
   ]
  },
  {
   "cell_type": "code",
   "execution_count": null,
   "metadata": {},
   "outputs": [],
   "source": [
    "from sklearn.preprocessing import LabelEncoder\n",
    "le1 = LabelEncoder() \n",
    "le2 = LabelEncoder() \n",
    "le6 = LabelEncoder() \n",
    "le8 = LabelEncoder() \n",
    "le10 = LabelEncoder() \n",
    "x[:,1] = le1.fit_transform(x[:,1])\n",
    "x[:,2] = le2.fit_transform(x[:,2])\n",
    "x[:,6] = le6.fit_transform(x[:,6])\n",
    "x[:,8] = le8.fit_transform(x[:,8])\n",
    "x[:,10] = le10.fit_transform(x[:,10])"
   ]
  },
  {
   "cell_type": "code",
   "execution_count": null,
   "metadata": {},
   "outputs": [],
   "source": [
    "print(\"Training set size:\", X_train.shape)\n",
    "print(\"Testing set size:\", X_test.shape)\n",
    "\n"
   ]
  },
  {
   "cell_type": "markdown",
   "metadata": {},
   "source": [
    "### Splitting Dataset into Training set and Test set"
   ]
  },
  {
   "cell_type": "code",
   "execution_count": null,
   "metadata": {},
   "outputs": [],
   "source": [
    "from sklearn.model_selection import train_test_split\n",
    "X_train,X_test,Y_train,Y_test = train_test_split(x,y,test_size=0.2,random_state=0)"
   ]
  },
  {
   "cell_type": "markdown",
   "metadata": {},
   "source": [
    "# Feature Scaling"
   ]
  },
  {
   "cell_type": "code",
   "execution_count": null,
   "metadata": {},
   "outputs": [],
   "source": [
    "from sklearn.preprocessing import StandardScaler\n",
    "sc = StandardScaler()\n",
    "X_train = sc.fit_transform(X_train)\n",
    "X_test = sc.fit_transform(X_test)"
   ]
  },
  {
   "cell_type": "code",
   "execution_count": null,
   "metadata": {},
   "outputs": [],
   "source": [
    "print(X_test)\n"
   ]
  },
  {
   "cell_type": "markdown",
   "metadata": {},
   "source": [
    "# Training Dataset"
   ]
  },
  {
   "cell_type": "code",
   "execution_count": null,
   "metadata": {},
   "outputs": [],
   "source": [
    "model_randomforest = RandomForestClassifier()\n",
    "model_randomforest.fit(X_train, Y_train)\n",
    "\n"
   ]
  },
  {
   "cell_type": "code",
   "execution_count": null,
   "metadata": {},
   "outputs": [],
   "source": [
    "model_logistic = LogisticRegression(max_iter=1000)\n",
    "model_logistic.fit(X_train, Y_train)"
   ]
  },
  {
   "cell_type": "code",
   "execution_count": null,
   "metadata": {},
   "outputs": [],
   "source": [
    "model_kneighbors = KNeighborsClassifier()\n",
    "model_kneighbors.fit(X_train, Y_train)"
   ]
  },
  {
   "cell_type": "code",
   "execution_count": null,
   "metadata": {},
   "outputs": [],
   "source": [
    "model_decision = DecisionTreeClassifier()\n",
    "model_decision.fit(X_train, Y_train)"
   ]
  },
  {
   "cell_type": "code",
   "execution_count": null,
   "metadata": {},
   "outputs": [],
   "source": [
    "model_svm = SVC()\n",
    "model_svm.fit(X_train, Y_train)"
   ]
  },
  {
   "cell_type": "markdown",
   "metadata": {},
   "source": [
    "###  Model Evaluation\n"
   ]
  },
  {
   "cell_type": "code",
   "execution_count": null,
   "metadata": {},
   "outputs": [],
   "source": [
    "from sklearn.metrics import confusion_matrix , accuracy_score\n",
    "y_pred_logistic = model_logistic.predict(X_test)\n",
    "y_pred_neighbors = model_kneighbors.predict(X_test)\n",
    "y_pred_svm = model_svm.predict(X_test)\n",
    "y_pred_decision = model_decision.predict(X_test)\n",
    "y_pred_random = model_randomforest.predict(X_test)\n",
    "\n",
    "RandomForest_Accuracy = accuracy_score(Y_test, model_randomforest.predict(X_test))\n",
    "LogisticRegression_Accuracy = accuracy_score(Y_test, model_logistic.predict(X_test))\n",
    "KNeighbors_Accuracy = accuracy_score(Y_test, model_kneighbors.predict(X_test))\n",
    "DecisionTree_Accuracy = accuracy_score(Y_test, model_decision.predict(X_test))\n",
    "SVM_Accuracy = accuracy_score(Y_test, model_svm.predict(X_test))\n",
    "\n",
    "accuracy_dict = {\n",
    "    \"Logistic Regression\": LogisticRegression_Accuracy,\n",
    "    \"KNeighbors\": KNeighbors_Accuracy,\n",
    "    \"Support Vector Machine\": SVM_Accuracy,\n",
    "    \"Random Forest\": RandomForest_Accuracy,\n",
    "    \"Decision Tree\": DecisionTree_Accuracy\n",
    "}\n",
    "\n",
    "# Plot accuracies\n",
    "plt.figure(figsize=(12, 6))\n",
    "plt.bar(accuracy_dict.keys(), accuracy_dict.values(), width=0.6, color='skyblue')\n",
    "plt.xlabel(\"Machine Learning Algorithm\")\n",
    "plt.ylabel(\"Accuracy\")\n",
    "plt.title(\"Accuracy Comparison of ML Models\")\n",
    "plt.ylim(0, 1)\n",
    "plt.show()\n",
    "\n",
    "best_model_name = max(accuracy_dict, key=accuracy_dict.get)\n",
    "models = {\n",
    "    \"Logistic Regression\": model_logistic,\n",
    "    \"KNeighbors\": model_kneighbors,\n",
    "    \"Support Vector Machine\": model_svm,\n",
    "    \"Random Forest\": model_randomforest,\n",
    "    \"Decision Tree\": model_decision\n",
    "}\n",
    "best_model = models[best_model_name]\n",
    "\n",
    "y_pred_best = best_model.predict(X_test)\n",
    "cm = confusion_matrix(Y_test, y_pred_best)\n",
    "plt.figure(figsize=(6, 5))\n",
    "sns.heatmap(cm, annot=True, fmt=\"d\", cmap=\"Blues\",\n",
    "            xticklabels=[\"No Failure\", \"Failure\"],\n",
    "            yticklabels=[\"No Failure\", \"Failure\"])\n",
    "plt.title(f\"Confusion Matrix - {best_model_name}\")\n",
    "plt.show()\n",
    "\n",
    "print(f\"Best Model: {best_model_name} with Accuracy: {accuracy_dict[best_model_name]:.2f}\")\n",
    "print(\"Random Forest Accuracy:\", RandomForest_Accuracy)"
   ]
  },
  {
   "cell_type": "code",
   "execution_count": null,
   "metadata": {},
   "outputs": [],
   "source": [
    "print(RandomForest_Accuracy)"
   ]
  },
  {
   "cell_type": "markdown",
   "metadata": {},
   "source": [
    "### Single Prediction"
   ]
  },
  {
   "cell_type": "code",
   "execution_count": null,
   "metadata": {},
   "outputs": [],
   "source": [
    "def predict_single(patient_data, model=best_model):\n",
    "    patient_array = np.array([patient_data], dtype=float)\n",
    "    patient_array = scaler.transform(patient_array)\n",
    "    prediction = model.predict(patient_array)[0]\n",
    "    return \"⚠️ Patient at Risk of Heart Failure\" if prediction == 1 else \"✅ Patient Healthy\"\n",
    "\n",
    "\n",
    "\n",
    "# Example Prediction\n",
    "\n",
    "sample_patient = [65, 0, 582, 20, 0, 0, 130, 1, 0, 1.3, 111]  \n",
    "\n",
    "print(\"Sample Prediction:\", predict_single(sample_patient))\n",
    "\n"
   ]
  }
 ],
 "metadata": {
  "kernelspec": {
   "display_name": "base",
   "language": "python",
   "name": "python3"
  },
  "language_info": {
   "codemirror_mode": {
    "name": "ipython",
    "version": 3
   },
   "file_extension": ".py",
   "mimetype": "text/x-python",
   "name": "python",
   "nbconvert_exporter": "python",
   "pygments_lexer": "ipython3",
   "version": "3.12.2"
  }
 },
 "nbformat": 4,
 "nbformat_minor": 2
}
